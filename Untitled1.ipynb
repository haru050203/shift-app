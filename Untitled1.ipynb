{
  "nbformat": 4,
  "nbformat_minor": 0,
  "metadata": {
    "colab": {
      "provenance": []
    },
    "kernelspec": {
      "name": "python3",
      "display_name": "Python 3"
    },
    "language_info": {
      "name": "python"
    }
  },
  "cells": [
    {
      "cell_type": "code",
      "execution_count": 1,
      "metadata": {
        "id": "auj5yadVDxPZ"
      },
      "outputs": [],
      "source": [
        "# app.pyの中身として保存したいPythonコード\n",
        "\n",
        "code = '''\n",
        "import streamlit as st\n",
        "import pandas as pd\n",
        "from pulp import *\n",
        "\n",
        "st.title(\"AIシフト自動作成ツール\")\n",
        "\n",
        "uploaded_file = st.file_uploader(\"CSVファイルをアップロードしてください\", type=\"csv\")\n",
        "\n",
        "if uploaded_file:\n",
        "    df = pd.read_csv(uploaded_file)\n",
        "    st.write(df)\n",
        "\n",
        "    days = list(range(7))\n",
        "    staffs = {}\n",
        "\n",
        "    for _, row in df.iterrows():\n",
        "        name = row['名前']\n",
        "        hope = int(row['希望日数'])\n",
        "        possible_days = [int(d) for d in str(row['出勤可能日']).split(',')]\n",
        "        staffs[name] = {\"希望日数\": hope, \"出勤可能日\": possible_days}\n",
        "\n",
        "    required_per_day = st.slider(\"1日に必要な人数\", 1, 5, 2)\n",
        "\n",
        "    prob = LpProblem(\"Shift\", LpMaximize)\n",
        "    x = {(s, d): LpVariable(f\"{s}_{d}\", cat=\"Binary\") for s in staffs for d in days}\n",
        "\n",
        "    prob += lpSum([x[s, d] for s in staffs for d in days if d in staffs[s][\"出勤可能日\"]])\n",
        "    for s in staffs:\n",
        "        prob += lpSum([x[s, d] for d in days if d in staffs[s][\"出勤可能日\"]]) <= staffs[s][\"希望日数\"]\n",
        "    for d in days:\n",
        "        prob += lpSum([x[s, d] for s in staffs if d in staffs[s][\"出勤可能日\"]]) == required_per_day\n",
        "\n",
        "    if st.button(\"シフトを自動作成\"):\n",
        "        prob.solve()\n",
        "        results = {d: [] for d in days}\n",
        "        for d in days:\n",
        "            for s in staffs:\n",
        "                if value(x[s, d]) == 1:\n",
        "                    results[d].append(s)\n",
        "\n",
        "        st.subheader(\"シフト結果\")\n",
        "        for d in days:\n",
        "            st.write(f\"Day {d}: {', '.join(results[d])}\")\n",
        "'''\n",
        "\n",
        "with open(\"app.py\", \"w\") as f:\n",
        "    f.write(code)\n",
        "\n",
        "with open(\"requirements.txt\", \"w\") as f:\n",
        "    f.write(\"streamlit\\npulp\\npandas\")\n"
      ]
    }
  ]
}